{
  "nbformat": 4,
  "nbformat_minor": 0,
  "metadata": {
    "colab": {
      "provenance": []
    },
    "kernelspec": {
      "name": "python3",
      "display_name": "Python 3"
    },
    "language_info": {
      "name": "python"
    }
  },
  "cells": [
    {
      "cell_type": "markdown",
      "source": [
        "# **Logistics Regression model for Titanic dataset:**"
      ],
      "metadata": {
        "id": "cGa4j7fRvryS"
      }
    },
    {
      "cell_type": "code",
      "source": [
        "import os\n",
        "os.getcwd()\n",
        "# uploaded data file in the directory provided"
      ],
      "metadata": {
        "colab": {
          "base_uri": "https://localhost:8080/",
          "height": 35
        },
        "id": "ps2G2BBawY7B",
        "outputId": "019d7179-7e9a-4acd-a601-672eaf8bfb2e"
      },
      "execution_count": 37,
      "outputs": [
        {
          "output_type": "execute_result",
          "data": {
            "text/plain": [
              "'/content'"
            ],
            "application/vnd.google.colaboratory.intrinsic+json": {
              "type": "string"
            }
          },
          "metadata": {},
          "execution_count": 37
        }
      ]
    },
    {
      "cell_type": "code",
      "source": [
        "# Load the dataset\n",
        "import pandas as pd\n",
        "titanic = pd.read_csv('titanic.csv')"
      ],
      "metadata": {
        "id": "seU2GGnNvM0M"
      },
      "execution_count": 38,
      "outputs": []
    },
    {
      "cell_type": "code",
      "source": [
        "# Checking the data\n",
        "print(titanic.head())\n",
        "print(titanic.info())"
      ],
      "metadata": {
        "collapsed": true,
        "id": "BN9CdKmz44BW"
      },
      "execution_count": null,
      "outputs": []
    },
    {
      "cell_type": "code",
      "source": [
        "# Split into features and target variable\n",
        "X = titanic.drop('survived', axis=1)\n",
        "y = titanic['survived']"
      ],
      "metadata": {
        "id": "f0qYqbAf6BHx"
      },
      "execution_count": 41,
      "outputs": []
    },
    {
      "cell_type": "code",
      "source": [
        "# Encode categorical variables using OneHotEncoder\n",
        "from sklearn.preprocessing import OneHotEncoder\n",
        "# Access the underlying NumPy array using .values before reshaping\n",
        "gender_encoded = OneHotEncoder().fit(X['sex'].values.reshape(-1, 1))\n",
        "X_encoded = gender_encoded.transform(X['sex'].values.reshape(-1, 1)) # Reshape here as well for consistency"
      ],
      "metadata": {
        "id": "dPkpHxKv8DNc"
      },
      "execution_count": 42,
      "outputs": []
    },
    {
      "cell_type": "code",
      "source": [
        "# Build the logistic regression model and train it\n",
        "from sklearn.linear_model import LogisticRegression\n",
        "model = LogisticRegression(max_iter=1000)\n",
        "model.fit(X_encoded, y)\n",
        "\n",
        "# Make predictions on the test set (if available; in this example, we assume X_test is already preprocessed)\n",
        "y_pred = model.predict(X_encoded)  # Returns probabilities"
      ],
      "metadata": {
        "id": "qskCFNLt8Mdm"
      },
      "execution_count": 43,
      "outputs": []
    },
    {
      "cell_type": "code",
      "source": [
        "# Evaluate the model (confusion matrix and classification report)\n",
        "from sklearn.metrics import accuracy_score, confusion_matrix, classification_report\n",
        "cm = confusion_matrix(y, y_pred)\n",
        "print(\"Confusion Matrix:\")\n",
        "print(cm)\n",
        "print(\"\\nClassification Report:\")\n",
        "print(classification_report(y, y_pred))"
      ],
      "metadata": {
        "colab": {
          "base_uri": "https://localhost:8080/"
        },
        "id": "FZTC8cBf8UjF",
        "outputId": "5352d85d-bc06-4cfb-d9ee-fa6685eea5ac"
      },
      "execution_count": 44,
      "outputs": [
        {
          "output_type": "stream",
          "name": "stdout",
          "text": [
            "Confusion Matrix:\n",
            "[[681 127]\n",
            " [161 337]]\n",
            "\n",
            "Classification Report:\n",
            "              precision    recall  f1-score   support\n",
            "\n",
            "           0       0.81      0.84      0.83       808\n",
            "           1       0.73      0.68      0.70       498\n",
            "\n",
            "    accuracy                           0.78      1306\n",
            "   macro avg       0.77      0.76      0.76      1306\n",
            "weighted avg       0.78      0.78      0.78      1306\n",
            "\n"
          ]
        }
      ]
    },
    {
      "cell_type": "code",
      "source": [
        "# Calculate accuracy\n",
        "accuracy = accuracy_score(y, y_pred)\n",
        "print(f\"Accuracy: {accuracy}\")"
      ],
      "metadata": {
        "colab": {
          "base_uri": "https://localhost:8080/"
        },
        "id": "ImCsq3vP8lyt",
        "outputId": "abc25353-90a2-4a4f-b10d-420ea4b912d2"
      },
      "execution_count": 45,
      "outputs": [
        {
          "output_type": "stream",
          "name": "stdout",
          "text": [
            "Accuracy: 0.77947932618683\n"
          ]
        }
      ]
    }
  ]
}